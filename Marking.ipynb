{
  "nbformat": 4,
  "nbformat_minor": 0,
  "metadata": {
    "colab": {
      "provenance": [],
      "authorship_tag": "ABX9TyNOGTwMIz1rXNFxztFYyZyP",
      "include_colab_link": true
    },
    "kernelspec": {
      "name": "python3",
      "display_name": "Python 3"
    },
    "language_info": {
      "name": "python"
    }
  },
  "cells": [
    {
      "cell_type": "markdown",
      "metadata": {
        "id": "view-in-github",
        "colab_type": "text"
      },
      "source": [
        "<a href=\"https://colab.research.google.com/github/AlissaFerry/fws_speed_grading/blob/main/Marking.ipynb\" target=\"_parent\"><img src=\"https://colab.research.google.com/assets/colab-badge.svg\" alt=\"Open In Colab\"/></a>"
      ]
    },
    {
      "cell_type": "code",
      "execution_count": 4,
      "metadata": {
        "colab": {
          "base_uri": "https://localhost:8080/",
          "height": 211
        },
        "id": "emudc0K3bHYE",
        "outputId": "f84e3ea1-195f-4884-9b10-50b4f67abbfa"
      },
      "outputs": [
        {
          "output_type": "error",
          "ename": "NameError",
          "evalue": "name 'example_generator' is not defined",
          "traceback": [
            "\u001b[0;31m---------------------------------------------------------------------------\u001b[0m",
            "\u001b[0;31mNameError\u001b[0m                                 Traceback (most recent call last)",
            "\u001b[0;32m<ipython-input-4-1fb36733aebe>\u001b[0m in \u001b[0;36m<cell line: 111>\u001b[0;34m()\u001b[0m\n\u001b[1;32m    109\u001b[0m \u001b[0mbtn1\u001b[0m\u001b[0;34m.\u001b[0m\u001b[0mon_click\u001b[0m\u001b[0;34m(\u001b[0m\u001b[0mcomment_generator\u001b[0m\u001b[0;34m)\u001b[0m\u001b[0;34m\u001b[0m\u001b[0;34m\u001b[0m\u001b[0m\n\u001b[1;32m    110\u001b[0m \u001b[0mbtn2\u001b[0m \u001b[0;34m=\u001b[0m \u001b[0mwidgets\u001b[0m\u001b[0;34m.\u001b[0m\u001b[0mButton\u001b[0m\u001b[0;34m(\u001b[0m\u001b[0mdescription\u001b[0m\u001b[0;34m=\u001b[0m\u001b[0;34m'Generate Example'\u001b[0m\u001b[0;34m,\u001b[0m \u001b[0mbutton_style\u001b[0m\u001b[0;34m=\u001b[0m\u001b[0;34m'success'\u001b[0m\u001b[0;34m)\u001b[0m\u001b[0;34m\u001b[0m\u001b[0;34m\u001b[0m\u001b[0m\n\u001b[0;32m--> 111\u001b[0;31m \u001b[0mbtn2\u001b[0m\u001b[0;34m.\u001b[0m\u001b[0mon_click\u001b[0m\u001b[0;34m(\u001b[0m\u001b[0mexample_generator\u001b[0m\u001b[0;34m)\u001b[0m\u001b[0;34m\u001b[0m\u001b[0;34m\u001b[0m\u001b[0m\n\u001b[0m\u001b[1;32m    112\u001b[0m \u001b[0mplace_holder1\u001b[0m \u001b[0;34m=\u001b[0m \u001b[0mwidgets\u001b[0m\u001b[0;34m.\u001b[0m\u001b[0mLabel\u001b[0m\u001b[0;34m(\u001b[0m\u001b[0mvalue\u001b[0m\u001b[0;34m=\u001b[0m\u001b[0;34m\" \"\u001b[0m\u001b[0;34m,\u001b[0m\u001b[0mlayout\u001b[0m\u001b[0;34m=\u001b[0m\u001b[0mLayout\u001b[0m\u001b[0;34m(\u001b[0m\u001b[0mwidth\u001b[0m\u001b[0;34m=\u001b[0m\u001b[0;34m'300px'\u001b[0m\u001b[0;34m)\u001b[0m\u001b[0;34m)\u001b[0m\u001b[0;34m\u001b[0m\u001b[0;34m\u001b[0m\u001b[0m\n\u001b[1;32m    113\u001b[0m \u001b[0mplace_holder2\u001b[0m \u001b[0;34m=\u001b[0m \u001b[0mwidgets\u001b[0m\u001b[0;34m.\u001b[0m\u001b[0mLabel\u001b[0m\u001b[0;34m(\u001b[0m\u001b[0mvalue\u001b[0m\u001b[0;34m=\u001b[0m\u001b[0;34m\" \"\u001b[0m\u001b[0;34m,\u001b[0m\u001b[0mlayout\u001b[0m\u001b[0;34m=\u001b[0m\u001b[0mLayout\u001b[0m\u001b[0;34m(\u001b[0m\u001b[0mwidth\u001b[0m\u001b[0;34m=\u001b[0m\u001b[0;34m'500px'\u001b[0m\u001b[0;34m)\u001b[0m\u001b[0;34m)\u001b[0m\u001b[0;34m\u001b[0m\u001b[0;34m\u001b[0m\u001b[0m\n",
            "\u001b[0;31mNameError\u001b[0m: name 'example_generator' is not defined"
          ]
        }
      ],
      "source": [
        "from pickle import TRUE\n",
        "\"\"\"to-do:\n",
        "change to checkboxes\n",
        "update to squawk\n",
        "add in feedback as well\n",
        "\n",
        "\"\"\"\n",
        "\n",
        "import pandas as pd\n",
        "import ipywidgets as widgets\n",
        "from IPython.display import display\n",
        "from ipywidgets import Label, Button, HBox, VBox, Layout\n",
        "\n",
        "# load your writing rubrics & writing issue directories\n",
        "df = pd.read_csv('https://raw.githubusercontent.com/AlissaFerry/fws_speed_grading/main/updated_rubric.csv')\n",
        "df_issue = pd.read_csv('https://raw.githubusercontent.com/AlissaFerry/fws_speed_grading/main/Specific_Comments.csv')\n",
        "\n",
        "#issue_dict = df_issue.set_index('issue').to_dict()['notes']\n",
        "#def getList(dict):\n",
        "#  return [*dict]\n",
        "\n",
        "#dropdown_options = getList(issue_dict)\n",
        "\n",
        "# create sliders from the writing rubrics\n",
        "sliders = []\n",
        "left_items = []\n",
        "left_metrics = []\n",
        "allcomments = []\n",
        "\n",
        "for i in range(len(df)):\n",
        "  slider =widgets.Select(\n",
        "    options=[df['Blank'][i], df['First'][i],df['Upper2'][i], df['Lower2'][i], df['Third'][i], df['Fail'][i]],\n",
        "    #description=str(df['SQUAWK'][i]+ \": \"+ df['Comments'][i]) ,\n",
        "    description=str( df['Comments'][i]) ,\n",
        "    squawk = str(df['SQUAWK'][i]),\n",
        "    disabled=False,\n",
        "    layout=Layout(width='auto', height = 'auto')\n",
        ")\n",
        "  #slider = widgets.Checkbox( value=False, description=df['Comments'][i], disabled=False)\n",
        "  sliders.append(slider)\n",
        "\n",
        "for i in range(len(df)):\n",
        "  left_metrics.append(df['SQUAWK'][i])\n",
        "  left_items.append(sliders[i])\n",
        "\n",
        "labels = [Label(value=m) for m in left_metrics]\n",
        "\n",
        "for i in range(len(df_issue)):\n",
        "  specific_comments =widgets.Checkbox(\n",
        "    description=str(df_issue['SQUAWK'][i])+\":\"+str( df_issue['Comments'][i]) ,\n",
        "    disabled=False,\n",
        "    layout=Layout(width='auto')\n",
        ")\n",
        "  allcomments.append(specific_comments)\n",
        "\n",
        "\n",
        "#for i in range(len(df_issue)):\n",
        " # right_metrics.append(df_issue['SQUAWK'][i])\n",
        "  #right_items.append(allcomments[i])\n",
        "\n",
        "### add in comments from csv\n",
        "\n",
        "### add in free-text\n",
        "\n",
        "\n",
        "# define the function for the button\n",
        "def comment_generator(x):\n",
        "  discrete = []\n",
        "  for squawk in [\"Structure\", \"Question\", \"Understanding\", \"Argument\", \"Writing\", \"Knowledge\"]:\n",
        "    comments = []\n",
        "    print(squawk+ \": \")\n",
        "    for i in range(len(sliders)):\n",
        "      if df[\"SQUAWK\"][i] != squawk:\n",
        "        pass\n",
        "      elif df[\"SQUAWK\"][i] == squawk:\n",
        "        discrete.append(sliders[i].index)\n",
        "        comments.append(sliders[i].value)\n",
        "        for com in range(len(allcomments)):\n",
        "          if allcomments[com].description.startswith(squawk) and allcomments[com].value == True:\n",
        "            comments[len(comments)-1] = allcomments[com].description.lstrip(squawk + \":\") + \" \" + comments[len(comments)-1]\n",
        "            allcomments[com].value = False\n",
        "\n",
        "\n",
        "\n",
        "    print(comments[0]+ \" \" + comments[1])\n",
        "    print()\n",
        "  if discrete.count(0) >0 :\n",
        "    print(\"Warning, missing comments\")\n",
        "  print(\"Firsts = \"+ str(discrete.count(1)))\n",
        "  print(\"Upper2 = \"+ str(discrete.count(2)))\n",
        "  print(\"Lower2 = \"+ str(discrete.count(3)))\n",
        "  print(\"Thirds = \"+ str(discrete.count(4)))\n",
        "  print(\"Fails = \"+ str(discrete.count(5)))\n",
        "\n",
        "\n",
        "\n",
        "\n",
        "\n",
        "\n",
        "  print('-------------------------------END-------------------------------')\n",
        "layout = widgets.Layout(width='800px', height='400px', flexbox= 'flex-wrap') #set width and height\n",
        "\n",
        "\n",
        "# design the layout\n",
        "title = widgets.HTML(\"Speed Grader\")\n",
        "credit = widgets.HTML(\"Use the dropbox to give general comments and more specific feedback. \")\n",
        "\n",
        "btn1 = widgets.Button(description='Generate Summary', button_style='success')\n",
        "btn1.on_click(comment_generator)\n",
        "place_holder1 = widgets.Label(value=\" \",layout=Layout(width='300px'))\n",
        "place_holder2 = widgets.Label(value=\" \",layout=Layout(width='500px'))\n",
        "\n",
        "label_box = widgets.VBox(labels)\n",
        "left_box = widgets.VBox(left_items, layout = layout)\n",
        "right_box = widgets.VBox(allcomments, layout = layout )\n",
        "body_boxes = widgets.HBox([left_box, right_box])\n",
        "button_box = widgets.HBox([place_holder1,btn1])\n",
        "\n",
        "page = widgets.VBox([title,credit,body_boxes,button_box])\n",
        "page\n"
      ]
    },
    {
      "cell_type": "code",
      "source": [
        "x [0]"
      ],
      "metadata": {
        "colab": {
          "base_uri": "https://localhost:8080/",
          "height": 36
        },
        "id": "3FAGBPKx1qs8",
        "outputId": "226765a5-4ca8-4863-851a-e363d19401a1"
      },
      "execution_count": null,
      "outputs": [
        {
          "output_type": "execute_result",
          "data": {
            "text/plain": [
              "'aaaa'"
            ],
            "application/vnd.google.colaboratory.intrinsic+json": {
              "type": "string"
            }
          },
          "metadata": {},
          "execution_count": 49
        }
      ]
    }
  ]
}